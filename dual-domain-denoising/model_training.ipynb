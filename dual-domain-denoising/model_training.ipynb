{
 "cells": [
  {
   "cell_type": "markdown",
   "metadata": {},
   "source": [
    "### Dual-Domain Training"
   ]
  },
  {
   "cell_type": "code",
   "execution_count": 2,
   "metadata": {},
   "outputs": [
    {
     "name": "stdout",
     "output_type": "stream",
     "text": [
      "Writing data to files...\n",
      "complex128 (384, 640, 320)\n",
      "complex128 (384, 640, 320)\n",
      "float64 (384, 640, 320)\n",
      "float64 (384, 640, 320)\n"
     ]
    }
   ],
   "source": [
    "import os\n",
    "import h5py\n",
    "import numpy as np\n",
    "import pickle as pk\n",
    "import matplotlib.pyplot as plt\n",
    "import fastmri\n",
    "from fastmri.data import transforms\n",
    "from constants import * \n",
    "\n",
    "np.random.seed(SEED)\n",
    "\n",
    "# load pkl data\n",
    "print('Writing data to files...')\n",
    "with open(NOISY_KDATA_PATH, 'rb') as handle:\n",
    "    noisy_kdata = pk.load(handle)\n",
    "    print(noisy_kdata.dtype, noisy_kdata.shape)\n",
    "\n",
    "with open(CLEAN_KDATA_PATH, 'rb') as handle:\n",
    "    clean_kdata = pk.load(handle)\n",
    "    print(clean_kdata.dtype, clean_kdata.shape)\n",
    "\n",
    "with open(NOISY_IMAGE_PATH, 'rb') as handle:\n",
    "    noisy_image = pk.load(handle)\n",
    "    print(noisy_image.dtype, noisy_image.shape)\n",
    "\n",
    "with open(CLEAN_IMAGE_PATH, 'rb') as handle:\n",
    "    clean_image = pk.load(handle)\n",
    "    print(clean_image.dtype, clean_image.shape)\n",
    "    "
   ]
  },
  {
   "cell_type": "code",
   "execution_count": null,
   "metadata": {},
   "outputs": [],
   "source": []
  }
 ],
 "metadata": {
  "kernelspec": {
   "display_name": "mri",
   "language": "python",
   "name": "python3"
  },
  "language_info": {
   "codemirror_mode": {
    "name": "ipython",
    "version": 3
   },
   "file_extension": ".py",
   "mimetype": "text/x-python",
   "name": "python",
   "nbconvert_exporter": "python",
   "pygments_lexer": "ipython3",
   "version": "3.12.8"
  }
 },
 "nbformat": 4,
 "nbformat_minor": 2
}
